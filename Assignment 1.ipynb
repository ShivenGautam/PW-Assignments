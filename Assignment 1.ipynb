{
 "cells": [
  {
   "cell_type": "code",
   "execution_count": 1,
   "id": "4160c5f2-5294-497e-920d-0ec3cf19337b",
   "metadata": {},
   "outputs": [],
   "source": [
    "# Question 1\n",
    "a=\"Sg\"\n",
    "l=[1,2,\"sam\",5.67]\n",
    "f = 45.65\n",
    "t = (1,2,3.5)"
   ]
  },
  {
   "cell_type": "code",
   "execution_count": 5,
   "id": "aec415d5-2cc4-437c-9fcb-bf113752f65f",
   "metadata": {},
   "outputs": [],
   "source": [
    "#question 2\n",
    "var1=''\n",
    "var2='[ DS , ML , Python ]'\n",
    "var3=[ 'DS' , 'ML' , 'Python' ]\n",
    "var4=1"
   ]
  },
  {
   "cell_type": "code",
   "execution_count": 6,
   "id": "0afdcd0a-e00f-43f7-93da-bfeb6b9dc92d",
   "metadata": {},
   "outputs": [
    {
     "data": {
      "text/plain": [
       "str"
      ]
     },
     "execution_count": 6,
     "metadata": {},
     "output_type": "execute_result"
    }
   ],
   "source": [
    "type(var1)"
   ]
  },
  {
   "cell_type": "code",
   "execution_count": 7,
   "id": "549ea826-2664-4167-8f68-88402c799f5c",
   "metadata": {},
   "outputs": [
    {
     "data": {
      "text/plain": [
       "str"
      ]
     },
     "execution_count": 7,
     "metadata": {},
     "output_type": "execute_result"
    }
   ],
   "source": [
    "type(var2)"
   ]
  },
  {
   "cell_type": "code",
   "execution_count": 8,
   "id": "c3c0c488-7098-4f90-9058-125d79bacbc8",
   "metadata": {},
   "outputs": [
    {
     "data": {
      "text/plain": [
       "list"
      ]
     },
     "execution_count": 8,
     "metadata": {},
     "output_type": "execute_result"
    }
   ],
   "source": [
    "type(var3)"
   ]
  },
  {
   "cell_type": "code",
   "execution_count": 9,
   "id": "d70d830b-98f9-4214-a642-8f037be8114e",
   "metadata": {},
   "outputs": [
    {
     "data": {
      "text/plain": [
       "int"
      ]
     },
     "execution_count": 9,
     "metadata": {},
     "output_type": "execute_result"
    }
   ],
   "source": [
    "type(var4)"
   ]
  },
  {
   "cell_type": "code",
   "execution_count": 10,
   "id": "a3fa1622-2632-4cd2-8aa2-ea6cbef62e6e",
   "metadata": {},
   "outputs": [],
   "source": [
    "#Question 3\n",
    "a=5/2 #used to divide two numbers\n",
    "b=4%3 #used to find remainder\n",
    "c=5//3 #floor function divides two numbers and gives the nearest whole number\n",
    "d=3**2 #used as an exponential function, 3 raise to power 2 gives 9  "
   ]
  },
  {
   "cell_type": "code",
   "execution_count": 11,
   "id": "5ac4268f-f094-4221-b906-77304f96d304",
   "metadata": {},
   "outputs": [
    {
     "data": {
      "text/plain": [
       "2.5"
      ]
     },
     "execution_count": 11,
     "metadata": {},
     "output_type": "execute_result"
    }
   ],
   "source": [
    "a"
   ]
  },
  {
   "cell_type": "code",
   "execution_count": 12,
   "id": "d079dd80-64e6-4fe2-96bb-4e481edcc705",
   "metadata": {},
   "outputs": [
    {
     "data": {
      "text/plain": [
       "1"
      ]
     },
     "execution_count": 12,
     "metadata": {},
     "output_type": "execute_result"
    }
   ],
   "source": [
    "b"
   ]
  },
  {
   "cell_type": "code",
   "execution_count": 13,
   "id": "56871f34-34ed-483c-a63a-a22ab6a43207",
   "metadata": {},
   "outputs": [
    {
     "data": {
      "text/plain": [
       "1"
      ]
     },
     "execution_count": 13,
     "metadata": {},
     "output_type": "execute_result"
    }
   ],
   "source": [
    "c"
   ]
  },
  {
   "cell_type": "code",
   "execution_count": 14,
   "id": "f66ed7c3-17b0-48a0-99dc-4beb4199e8c6",
   "metadata": {},
   "outputs": [
    {
     "data": {
      "text/plain": [
       "9"
      ]
     },
     "execution_count": 14,
     "metadata": {},
     "output_type": "execute_result"
    }
   ],
   "source": [
    "d"
   ]
  },
  {
   "cell_type": "code",
   "execution_count": 18,
   "id": "a34d0f92-0561-48d1-a74c-14321f49bc59",
   "metadata": {},
   "outputs": [
    {
     "name": "stdout",
     "output_type": "stream",
     "text": [
      "<class 'int'>\n",
      "<class 'int'>\n",
      "<class 'int'>\n",
      "<class 'int'>\n",
      "<class 'int'>\n",
      "<class 'str'>\n",
      "<class 'float'>\n",
      "<class 'float'>\n",
      "<class 'int'>\n",
      "<class 'str'>\n"
     ]
    }
   ],
   "source": [
    "#question 4\n",
    "s=[1,2,3,4,5,\"python\",4.56,5.55, 6,\"ds\"]\n",
    "for i in s:\n",
    "    print(type(i))"
   ]
  },
  {
   "cell_type": "code",
   "execution_count": 19,
   "id": "2e347c07-e50f-4905-994b-cb48b35f41e7",
   "metadata": {},
   "outputs": [
    {
     "name": "stdout",
     "output_type": "stream",
     "text": [
      "A can be divided by B 2 times\n"
     ]
    }
   ],
   "source": [
    "#question 5\n",
    "a = 22\n",
    "b =2\n",
    "count =0\n",
    "\n",
    "while a%b==0:\n",
    "    a/=b\n",
    "    count+=1\n",
    "if count>0:\n",
    "    print(\"A can be divided by B\" ,count,\"times\")\n",
    "else:\n",
    "    print(\"A cannot be divided by B\")\n",
    "        "
   ]
  },
  {
   "cell_type": "code",
   "execution_count": 21,
   "id": "e4f4b819-22b7-4a33-865f-1c46f0024eb7",
   "metadata": {},
   "outputs": [
    {
     "name": "stdout",
     "output_type": "stream",
     "text": [
      "It is divisible by 3\n",
      "It is divisible by 3\n",
      "It is divisible by 3\n",
      "It is divisible by 3\n",
      "It is divisible by 3\n",
      "It is divisible by 3\n",
      "It is divisible by 3\n",
      "It is divisible by 3\n",
      "It is divisible by 3\n",
      "It is divisible by 3\n",
      "It is divisible by 3\n",
      "It is divisible by 3\n",
      "It is not divisible by 3\n"
     ]
    }
   ],
   "source": [
    "#question 6\n",
    "numbers = [11, 20, 36, 45, 51, 64, 72, 80, 93, 102, 115, 120, 133, 145, 150, 165, 171, 183, 190, 202, 211, 220, 232, 240, 253]\n",
    "for num in numbers:\n",
    "    if(num%3==0):\n",
    "     print(\"It is divisible by 3\")\n",
    "else:\n",
    "    print(\"It is not divisible by 3\")"
   ]
  },
  {
   "cell_type": "code",
   "execution_count": null,
   "id": "3899d36e-7185-481e-9c22-9dc861be43b9",
   "metadata": {},
   "outputs": [],
   "source": [
    "#Question 7\n",
    "#  Mutubale are those data types which can be changed after declaration whereas non-mutuable data-types cannot be changed after once they are declared or thier value is being set\n",
    "# e.g of mutuable - lists,int, etc.\n",
    "#e.g of imutable - tuple,string, etc."
   ]
  }
 ],
 "metadata": {
  "kernelspec": {
   "display_name": "Python 3 (ipykernel)",
   "language": "python",
   "name": "python3"
  },
  "language_info": {
   "codemirror_mode": {
    "name": "ipython",
    "version": 3
   },
   "file_extension": ".py",
   "mimetype": "text/x-python",
   "name": "python",
   "nbconvert_exporter": "python",
   "pygments_lexer": "ipython3",
   "version": "3.10.8"
  }
 },
 "nbformat": 4,
 "nbformat_minor": 5
}
